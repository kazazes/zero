{
 "cells": [
  {
   "cell_type": "markdown",
   "metadata": {},
   "source": [
    "# Zero\n",
    "\n",
    "Today we are going to start an experiment. LLMs have supplanted the need for stats NLP, Gemini is busted, and Sama is raising $7T. The president is eating ice cream and talking about a ceasefire. We're two years into this AI thing and I need to make some money. In this notebook. With you, dear reader, and the LLMs, and all the bots, past present and future, Copilot and GPT-4, Mistral & llama too. I hope you can run this locally, it's hard to say today where the compute will fall. I'm currently writing in Cursor, which means my AI du jour is some GPT flavor. The date is February 27, 2024.\n",
    "\n",
    "I want to think of this as a group exercise. It's me, Peter, at the keys, but every time I hit tab, *boom* one of my accompanists will take the wheel. I haven't done it yet, and I'll try my best to use it sparingly, but we gotta make some money, and _I'm not sure how else to do it._\n",
    "\n",
    "Goodnight."
   ]
  },
  {
   "cell_type": "code",
   "execution_count": 3,
   "metadata": {},
   "outputs": [
    {
     "name": "stdout",
     "output_type": "stream",
     "text": [
      "Initialized empty Git repository in /Users/p/Desktop/zero/.git/\n",
      "[main (root-commit) 00aad59] init\n",
      " 1 file changed, 60 insertions(+)\n",
      " create mode 100644 chapter-00.ipynb\n"
     ]
    }
   ],
   "source": [
    "!git init\n",
    "!git add chapter-00.ipynb\n",
    "!git commit -m \"init\""
   ]
  }
 ],
 "metadata": {
  "kernelspec": {
   "display_name": "Python 3",
   "language": "python",
   "name": "python3"
  },
  "language_info": {
   "codemirror_mode": {
    "name": "ipython",
    "version": 3
   },
   "file_extension": ".py",
   "mimetype": "text/x-python",
   "name": "python",
   "nbconvert_exporter": "python",
   "pygments_lexer": "ipython3",
   "version": "3.11.6"
  }
 },
 "nbformat": 4,
 "nbformat_minor": 2
}
