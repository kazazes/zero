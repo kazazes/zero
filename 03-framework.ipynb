{
 "cells": [
  {
   "cell_type": "markdown",
   "metadata": {},
   "source": [
    "Ok, we have the data we need to do something here. There's a million ways out from here, and we need to try all of them. We need a solid test / train / predict / backtest pipeline in place. \n",
    "\n",
    "Which means we need a strategy. Let's do something brutally, impishly stupid to start. Let's stick with the vibes thinking, and implement an ETF end of day strategy. Training prompts will be a list of headlines. For training responses, we'll take the best performing broad market levered ETF from close to open, and that will be the expected response.\n",
    "\n",
    "I've always been a bit beffudled by overnight levered ETF pricing, what is it tracking? Who's buying? I don't understand this stuff, but maybe zero will...\n",
    "\n",
    "First, let's come up with the \"buy\" signals for each day, which we'll calculate as the best performing of the pool from close to open on that day."
   ]
  },
  {
   "cell_type": "code",
   "execution_count": null,
   "metadata": {},
   "outputs": [],
   "source": [
    "%run 02-markets.ipynb"
   ]
  },
  {
   "cell_type": "code",
   "execution_count": 28,
   "metadata": {},
   "outputs": [
    {
     "name": "stdout",
     "output_type": "stream",
     "text": [
      "Distribution of best overnight performers\n",
      "Ticker\n",
      "SQQQ    97\n",
      "TQQQ    72\n",
      "UDOW    32\n",
      "SDOW    28\n",
      "SPXS    13\n",
      "SPXL     9\n",
      "Name: count, dtype: int64\n"
     ]
    }
   ],
   "source": [
    "import pandas as pd\n",
    "\n",
    "tickers = [\n",
    "    'TQQQ',\n",
    "    'SPXL',\n",
    "    'UDOW',\n",
    "    'SQQQ',\n",
    "    'SPXS',\n",
    "    'SDOW'\n",
    "]\n",
    "\n",
    "ticker_days = {ticker: fetch_dailies(ticker) for ticker in tickers}\n",
    "\n",
    "def best_overnight_performance(ticker_days, date):\n",
    "    best_performance = float('-inf')\n",
    "    best_ticker = None\n",
    "    \n",
    "    for ticker, df in ticker_days.items():\n",
    "        # Ensure the date exists in the DataFrame\n",
    "        if date in df.index:\n",
    "            # Get the overnight return for the given date\n",
    "            overnight_return = df.loc[date, 'Overnight_Return']\n",
    "            if overnight_return > best_performance:\n",
    "                best_performance = overnight_return\n",
    "                best_ticker = ticker\n",
    "    \n",
    "    return best_ticker\n",
    "\n",
    "# calculate the best overnight performer for every day since 2022-01-01 and put this in a DataFrame\n",
    "results = []\n",
    "for date in pd.date_range('2022-01-01', '2022-12-31'):\n",
    "    best_ticker = best_overnight_performance(ticker_days, date)\n",
    "    if best_ticker:  # Ensure there is a best ticker for the date\n",
    "        overnight_return_percentage = ticker_days[best_ticker].loc[date, 'Overnight_Return'] * 100\n",
    "        results.append({'Date': date, 'Ticker': best_ticker, 'Overnight_Return_Percentage': overnight_return_percentage})\n",
    "\n",
    "results_df = pd.DataFrame(results)\n",
    "\n",
    "print('Distribution of best overnight performers')\n",
    "# print the distribution of best overnight performers\n",
    "print(results_df['Ticker'].value_counts())\n"
   ]
  },
  {
   "cell_type": "markdown",
   "metadata": {},
   "source": [
    "Ok, we have the best performing overnight return for every day since 2022-01-01. Now we need to get the headlines for each day, and then we can start to build a model. We will use only one data source for now, we can do watercolors later. Start with bloomberg."
   ]
  },
  {
   "cell_type": "code",
   "execution_count": null,
   "metadata": {},
   "outputs": [],
   "source": [
    "# TODO: get bloomberg headlines for each day\n",
    "# TODO: get the best performing overnight return for each day\n",
    "# TODO: put this in a DataFrame"
   ]
  }
 ],
 "metadata": {
  "kernelspec": {
   "display_name": ".venv",
   "language": "python",
   "name": "python3"
  },
  "language_info": {
   "codemirror_mode": {
    "name": "ipython",
    "version": 3
   },
   "file_extension": ".py",
   "mimetype": "text/x-python",
   "name": "python",
   "nbconvert_exporter": "python",
   "pygments_lexer": "ipython3",
   "version": "3.11.6"
  }
 },
 "nbformat": 4,
 "nbformat_minor": 2
}
