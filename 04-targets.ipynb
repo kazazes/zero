{
 "cells": [
  {
   "cell_type": "markdown",
   "metadata": {},
   "source": [
    "We need a solid test / train / predict / backtest pipeline in place. \n",
    "\n",
    "Which means we need a strategy. Let's do something brutally, impishly simple to start. Let's stick with the vibes thinking, and implement an ETF end of day strategy. Training prompts will be a list of headlines. For training responses, we'll take the best performing broad market levered ETF from close to open, and that will be the expected response.\n",
    "\n",
    "I've always been a bit beffudled by overnight levered ETF pricing, what is it tracking? Who is buying? Why am I not?\n",
    "\n",
    "First, let's come up with the \"buy\" signals for each day, which we'll calculate as the best performing of the pool from close to open on that day."
   ]
  },
  {
   "cell_type": "code",
   "execution_count": 15,
   "metadata": {},
   "outputs": [],
   "source": [
    "%run 03-markets.ipynb"
   ]
  },
  {
   "cell_type": "code",
   "execution_count": 16,
   "metadata": {},
   "outputs": [],
   "source": [
    "import pandas as pd\n",
    "\n",
    "def best_overnight_performance(ticker_days, date):\n",
    "    best_performance = float('-inf')\n",
    "    best_ticker = None\n",
    "    \n",
    "    for ticker, df in ticker_days.items():\n",
    "        # Ensure the date exists in the DataFrame\n",
    "        if date in df.index:\n",
    "            # Get the overnight return for the given date\n",
    "            overnight_return = df.loc[date, 'Overnight_Return']\n",
    "            if overnight_return > best_performance:\n",
    "                best_performance = overnight_return\n",
    "                best_ticker = ticker\n",
    "    \n",
    "    return best_ticker\n",
    "\n",
    "def calculate_winner_df(ticker_days, start, end):\n",
    "    # calculate the best overnight performer for every day since 2022-01-01 and put this in a DataFrame\n",
    "    results = []\n",
    "    for date in pd.date_range(start, end):\n",
    "        best_ticker = best_overnight_performance(ticker_days, date)\n",
    "        if best_ticker:  # Ensure there is a best ticker for the date\n",
    "            overnight_return_percentage = ticker_days[best_ticker].loc[date, 'Overnight_Return'] * 100\n",
    "            results.append({'Date': date, 'Ticker': best_ticker, 'Overnight_Return_Percentage': overnight_return_percentage})\n",
    "\n",
    "    results_df = pd.DataFrame(results)\n",
    "    return results_df\n",
    "\n",
    "def print_winner_stats(results_df):\n",
    "    print('Frequency of best overnight performers')\n",
    "    # print the distribution of best overnight performers\n",
    "    print(results_df['Ticker'].value_counts())\n",
    "\n",
    "    print('\\nChecking dates with a return less than zero')\n",
    "    # print the dates with a return less than zero\n",
    "    print(results_df[results_df['Overnight_Return_Percentage'] < 0])\n",
    "    print(f'\\nAverage overnight return: {results_df[\"Overnight_Return_Percentage\"].mean():.2f}%')"
   ]
  },
  {
   "cell_type": "code",
   "execution_count": 17,
   "metadata": {},
   "outputs": [
    {
     "name": "stdout",
     "output_type": "stream",
     "text": [
      "Frequency of best overnight performers\n",
      "Ticker\n",
      "SQQQ    188\n",
      "TQQQ    164\n",
      "UDOW     63\n",
      "SDOW     57\n",
      "SPXS     39\n",
      "SPXL     31\n",
      "Name: count, dtype: int64\n",
      "\n",
      "Checking dates with a return less than zero\n",
      "          Date Ticker  Overnight_Return_Percentage\n",
      "367 2023-06-21   SPXS                    -0.205321\n",
      "\n",
      "Average overnight return: 2.83%\n"
     ]
    }
   ],
   "source": [
    "tickers = [\n",
    "    'TQQQ',\n",
    "    'SPXL',\n",
    "    'UDOW',\n",
    "    'SQQQ',\n",
    "    'SPXS',\n",
    "    'SDOW'\n",
    "]\n",
    "\n",
    "ticker_days = {ticker: fetch_dailies(ticker) for ticker in tickers}\n",
    "now = pd.Timestamp.now()\n",
    "results_df = calculate_winner_df(ticker_days, '2022-01-01', now)\n",
    "print_winner_stats(results_df)"
   ]
  },
  {
   "cell_type": "markdown",
   "metadata": {},
   "source": [
    "This isn't enough coverage. Let's extend the window to the beginning of 2020 and see if we get a more balanced distribution."
   ]
  },
  {
   "cell_type": "code",
   "execution_count": 18,
   "metadata": {},
   "outputs": [
    {
     "name": "stdout",
     "output_type": "stream",
     "text": [
      "Frequency of best overnight performers\n",
      "Ticker\n",
      "TQQQ    334\n",
      "SQQQ    283\n",
      "UDOW    170\n",
      "SDOW    141\n",
      "SPXS     63\n",
      "SPXL     56\n",
      "Name: count, dtype: int64\n",
      "\n",
      "Checking dates with a return less than zero\n",
      "          Date Ticker  Overnight_Return_Percentage\n",
      "872 2023-06-21   SPXS                    -0.205321\n",
      "\n",
      "Average overnight return: 4.27%\n"
     ]
    }
   ],
   "source": [
    "results_df = calculate_winner_df(ticker_days, '2020-01-01', now)\n",
    "print_winner_stats(results_df)"
   ]
  },
  {
   "cell_type": "markdown",
   "metadata": {},
   "source": [
    "~~Slightly better. We'll take it.~~\n",
    "\n",
    "To keep things simple, let's just use TQQQ and SQQQ as our initial expected responses. I don't expect a smaller model to be able to predict the less common winners, so we'll train a binary TQQQ/SQQQ picker."
   ]
  },
  {
   "cell_type": "code",
   "execution_count": 19,
   "metadata": {},
   "outputs": [
    {
     "name": "stdout",
     "output_type": "stream",
     "text": [
      "Frequency of best overnight performers\n",
      "Ticker\n",
      "TQQQ    565\n",
      "SQQQ    482\n",
      "Name: count, dtype: int64\n",
      "\n",
      "Checking dates with a return less than zero\n",
      "          Date Ticker  Overnight_Return_Percentage\n",
      "124 2020-06-30   TQQQ                    -0.021659\n",
      "265 2021-01-21   SQQQ                    -1.173881\n",
      "502 2021-12-29   TQQQ                    -0.023344\n",
      "581 2022-04-22   SQQQ                    -0.011962\n",
      "722 2022-11-11   SQQQ                    -0.042481\n",
      "730 2022-11-23   TQQQ                    -0.090621\n",
      "810 2023-03-22   SQQQ                    -0.565058\n",
      "872 2023-06-21   SQQQ                    -0.306592\n",
      "999 2023-12-20   TQQQ                    -1.058408\n",
      "\n",
      "Average overnight return: 2.78%\n"
     ]
    }
   ],
   "source": [
    "tickers = [\n",
    "    'TQQQ',\n",
    "    'SQQQ'\n",
    "]\n",
    "ticker_days = {ticker: fetch_dailies(ticker) for ticker in tickers}\n",
    "results_df = calculate_winner_df(ticker_days, '2020-01-01', now)\n",
    "print_winner_stats(results_df)"
   ]
  },
  {
   "cell_type": "markdown",
   "metadata": {},
   "source": [
    "A sizeable drop in the profile of the returns when only using TQQQ and SQQQ. The holy grail model would be able to predict the less common winners. Looks like we'll be training both a binary TQQQ/SQQQ picker and a broader market model.\n",
    "\n"
   ]
  },
  {
   "cell_type": "code",
   "execution_count": 20,
   "metadata": {},
   "outputs": [
    {
     "data": {
      "text/html": [
       "<div>\n",
       "<style scoped>\n",
       "    .dataframe tbody tr th:only-of-type {\n",
       "        vertical-align: middle;\n",
       "    }\n",
       "\n",
       "    .dataframe tbody tr th {\n",
       "        vertical-align: top;\n",
       "    }\n",
       "\n",
       "    .dataframe thead th {\n",
       "        text-align: right;\n",
       "    }\n",
       "</style>\n",
       "<table border=\"1\" class=\"dataframe\">\n",
       "  <thead>\n",
       "    <tr style=\"text-align: right;\">\n",
       "      <th></th>\n",
       "      <th>Date</th>\n",
       "      <th>Ticker</th>\n",
       "      <th>Overnight_Return_Percentage</th>\n",
       "    </tr>\n",
       "  </thead>\n",
       "  <tbody>\n",
       "    <tr>\n",
       "      <th>14</th>\n",
       "      <td>2020-01-23</td>\n",
       "      <td>SQQQ</td>\n",
       "      <td>0.208877</td>\n",
       "    </tr>\n",
       "  </tbody>\n",
       "</table>\n",
       "</div>"
      ],
      "text/plain": [
       "         Date Ticker  Overnight_Return_Percentage\n",
       "14 2020-01-23   SQQQ                     0.208877"
      ]
     },
     "execution_count": 20,
     "metadata": {},
     "output_type": "execute_result"
    }
   ],
   "source": [
    "def winner_on_date(date):\n",
    "    return results_df[results_df['Date'] == date]\n",
    "\n",
    "winner_on_date('2020-01-23')"
   ]
  },
  {
   "cell_type": "code",
   "execution_count": 21,
   "metadata": {},
   "outputs": [],
   "source": [
    "import os\n",
    "\n",
    "# Create directory if it doesn't exist\n",
    "if not os.path.exists('04-targets'):\n",
    "    os.makedirs('04-targets')\n",
    "\n",
    "# Save results_df to CSV\n",
    "results_df.to_csv('04-targets/targets.csv', index=False)\n"
   ]
  }
 ],
 "metadata": {
  "kernelspec": {
   "display_name": ".venv",
   "language": "python",
   "name": "python3"
  },
  "language_info": {
   "codemirror_mode": {
    "name": "ipython",
    "version": 3
   },
   "file_extension": ".py",
   "mimetype": "text/x-python",
   "name": "python",
   "nbconvert_exporter": "python",
   "pygments_lexer": "ipython3",
   "version": "3.11.6"
  }
 },
 "nbformat": 4,
 "nbformat_minor": 2
}
